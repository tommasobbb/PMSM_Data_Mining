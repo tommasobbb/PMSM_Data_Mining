{
 "cells": [
  {
   "cell_type": "code",
   "execution_count": null,
   "metadata": {},
   "outputs": [],
   "source": [
    "import numpy as np\n",
    "import pandas as pd\n",
    "from sklearn.preprocessing import MinMaxScaler\n",
    "import matplotlib.pyplot as plt\n",
    "import seaborn as sns\n",
    "from matplotlib.colors import rgb2hex\n",
    "import torch"
   ]
  },
  {
   "cell_type": "code",
   "execution_count": null,
   "metadata": {},
   "outputs": [],
   "source": [
    "file_path = 'Project/measures_v2.csv'\n",
    "\n",
    "df = pd.read_csv(file_path)\n",
    "df"
   ]
  },
  {
   "cell_type": "code",
   "execution_count": null,
   "metadata": {},
   "outputs": [],
   "source": [
    "#Sorting the value of the measurement sessions\n",
    "\n",
    "#The 'mergesort' algorithm is a stable sort, meaning that it maintains the\n",
    "#relative order of rows with equal 'profile_id' values. However, this code\n",
    "#creates a new DataFrame sorted_df with the sorted data.\n",
    "print(df.head(10))\n",
    "df.sort_values(by='profile_id', kind='mergesort', inplace=True)\n",
    "unique_values = df['profile_id'].unique()\n",
    "print(unique_values)"
   ]
  },
  {
   "cell_type": "code",
   "execution_count": null,
   "metadata": {},
   "outputs": [],
   "source": [
    "# Remove the specified columns\n",
    "df.drop(['stator_tooth', 'coolant', 'stator_winding', 'torque'], axis=1, inplace=True)"
   ]
  },
  {
   "cell_type": "code",
   "execution_count": null,
   "metadata": {},
   "outputs": [],
   "source": [
    "# Let's rename the stator_yoke variable to stator_temp\n",
    "df.rename(columns={'stator_yoke': 'stator_temp'}, inplace=True)\n",
    "\n",
    "# Check the first few rows to confirm the columns are removed\n",
    "print(df.head())"
   ]
  },
  {
   "cell_type": "markdown",
   "metadata": {},
   "source": [
    "**Scaling the features**"
   ]
  },
  {
   "cell_type": "code",
   "execution_count": null,
   "metadata": {},
   "outputs": [],
   "source": [
    "# Separating features and target\n",
    "features = df.drop('pm', axis=1)\n",
    "target = df['pm']\n",
    "\n",
    "# Normalize the feature data\n",
    "scaler = MinMaxScaler()\n",
    "features_normalized = scaler.fit_transform(features)"
   ]
  },
  {
   "cell_type": "code",
   "execution_count": null,
   "metadata": {},
   "outputs": [],
   "source": [
    "features_normalized_df = pd.DataFrame(features_normalized, columns=features.columns)\n",
    "features_normalized_df['profile_id'] = df['profile_id']  # adding profile_id back for grouping"
   ]
  },
  {
   "cell_type": "markdown",
   "metadata": {},
   "source": [
    "**Model Input**\n",
    "\n",
    "Prepering the input of our model. We want to have different time series to input in our model based on the profile_id. \n",
    "Because of the cycle have different lengths, we decided to make each one of the same lengths flattened the array, adding zeros at the end."
   ]
  },
  {
   "cell_type": "code",
   "execution_count": null,
   "metadata": {},
   "outputs": [],
   "source": [
    "grouped = features_normalized_df.groupby('profile_id')\n",
    "\n",
    "max_length = max(grouped.size())\n",
    "\n",
    "padded_sequences = []\n",
    "sequence_targets = []\n",
    "\n",
    "for name, group in grouped:\n",
    "    sequence_length = len(group)\n",
    "    padding_length = max_length - sequence_length\n",
    "\n",
    "    padded_sequence = np.vstack((group.drop('profile_id', axis=1).values, \n",
    "                                 np.zeros((padding_length, group.shape[1] - 1))))\n",
    "    padded_sequences.append(padded_sequence)\n",
    "\n",
    "    padded_target = np.pad(target[group.index], (0, padding_length), 'constant')\n",
    "    sequence_targets.append(padded_target)\n",
    "\n",
    "padded_sequences = np.array(padded_sequences)\n",
    "sequence_targets = np.array(sequence_targets)"
   ]
  },
  {
   "cell_type": "markdown",
   "metadata": {},
   "source": [
    "We creating windows of 50 timestamps for each sequence based on the profile_id, to create more input for our model."
   ]
  },
  {
   "cell_type": "code",
   "execution_count": null,
   "metadata": {},
   "outputs": [],
   "source": [
    "from sklearn.model_selection import train_test_split\n",
    "\n",
    "unique_profile_ids = df['profile_id'].unique()\n",
    "train_profile_ids, test_profile_ids = train_test_split(unique_profile_ids, test_size=0.2, random_state=42)\n",
    "\n",
    "def filter_sequences(sequences, targets, profile_ids, all_profile_ids):\n",
    "    indices = [i for i, p_id in enumerate(all_profile_ids) if p_id in profile_ids]\n",
    "    return sequences[indices], targets[indices]\n",
    "\n",
    "train_data, train_targets = filter_sequences(padded_sequences, sequence_targets, train_profile_ids, unique_profile_ids)\n",
    "test_data, test_targets = filter_sequences(padded_sequences, sequence_targets, test_profile_ids, unique_profile_ids)"
   ]
  },
  {
   "cell_type": "code",
   "execution_count": null,
   "metadata": {},
   "outputs": [],
   "source": [
    "print('the len of the train data is ' + str(len(train_data)))\n",
    "print('the len of the test data is '+ str(len(test_data)))"
   ]
  },
  {
   "cell_type": "code",
   "execution_count": null,
   "metadata": {},
   "outputs": [],
   "source": [
    "from torch.utils.data import DataLoader, TensorDataset\n",
    "\n",
    "\n",
    "def create_subsequences(data, target, sequence_length, step_size):\n",
    "    subsequences = []\n",
    "    targets = []\n",
    "\n",
    "    flattened_data = data.reshape(-1, data.shape[-1])  \n",
    "    flattened_target = target.flatten()\n",
    "\n",
    "    for i in range(0, len(flattened_data) - sequence_length, step_size):\n",
    "        subsequences.append(flattened_data[i:i + sequence_length])\n",
    "        targets.append(flattened_target[i + sequence_length])\n",
    "\n",
    "    return np.array(subsequences), np.array(targets)\n",
    "\n",
    "\n",
    "sequence_length = 50\n",
    "step_size = 50\n",
    "train_subsequences, train_sub_targets = create_subsequences(train_data, train_targets, sequence_length, step_size)\n",
    "\n",
    "\n",
    "train_data_tensor = torch.tensor(train_subsequences, dtype=torch.float32)\n",
    "train_targets_tensor = torch.tensor(train_sub_targets, dtype=torch.float32)\n",
    "\n",
    "\n",
    "train_dataset = TensorDataset(train_data_tensor, train_targets_tensor)\n",
    "train_loader = DataLoader(train_dataset, batch_size=50, shuffle=False)"
   ]
  },
  {
   "cell_type": "markdown",
   "metadata": {},
   "source": [
    "**LSTM**"
   ]
  },
  {
   "cell_type": "code",
   "execution_count": null,
   "metadata": {},
   "outputs": [],
   "source": [
    "import torch.nn as nn\n",
    "\n",
    "class LSTMModel(nn.Module):\n",
    "    def __init__(self, input_size, hidden_size, num_layers, output_size):\n",
    "        super(LSTMModel, self).__init__()\n",
    "        self.hidden_size = hidden_size\n",
    "        self.num_layers = num_layers\n",
    "        self.lstm = nn.LSTM(input_size, hidden_size, num_layers, batch_first=True)\n",
    "        self.fc = nn.Linear(hidden_size, output_size)\n",
    "\n",
    "    def forward(self, x):\n",
    "        \n",
    "        h0 = torch.zeros(self.num_layers, x.size(0), self.hidden_size).to(x.device)\n",
    "        c0 = torch.zeros(self.num_layers, x.size(0), self.hidden_size).to(x.device)\n",
    "\n",
    "        out, _ = self.lstm(x, (h0, c0))\n",
    "\n",
    "        out = self.fc(out[:, -1, :])\n",
    "        return out\n",
    "\n",
    "input_size = train_data.shape[2]  \n",
    "hidden_size = 50  \n",
    "num_layers = 2  \n",
    "output_size = 1  \n",
    "\n",
    "model = LSTMModel(input_size, hidden_size, num_layers, output_size)\n",
    "\n",
    "\n",
    "criterion = nn.MSELoss()\n",
    "optimizer = torch.optim.Adam(model.parameters(), lr=0.001)  \n",
    "\n",
    "# Training loop\n",
    "num_epochs = 50  \n",
    "for epoch in range(num_epochs):\n",
    "    for inputs, targets in train_loader:\n",
    "        \n",
    "        outputs = model(inputs)\n",
    "        loss = criterion(outputs, targets)\n",
    "\n",
    "        optimizer.zero_grad()\n",
    "        loss.backward()\n",
    "        optimizer.step()\n",
    "\n",
    "    print(f'Epoch [{epoch+1}/{num_epochs}], Loss: {loss.item():.4f}')"
   ]
  },
  {
   "cell_type": "markdown",
   "metadata": {},
   "source": [
    "**LSTM + CROSS VALIDATION**"
   ]
  },
  {
   "cell_type": "code",
   "execution_count": null,
   "metadata": {},
   "outputs": [],
   "source": [
    "from sklearn.model_selection import KFold\n",
    "\n",
    "def filter_sequences(sequences, targets, profile_ids, all_profile_ids):\n",
    "    indices = [i for i, p_id in enumerate(all_profile_ids) if p_id in profile_ids]\n",
    "    return sequences[indices], targets[indices]\n",
    "\n",
    "# Number of folds\n",
    "n_folds = 11\n",
    "kf = KFold(n_splits=n_folds)\n",
    "\n",
    "# Convert profile IDs to a list for indexing\n",
    "train_profile_id_list = list(train_profile_ids)\n",
    "\n",
    "# Store the performance metrics for each fold\n",
    "performance_metrics = []\n",
    "\n",
    "for train_index, val_index in kf.split(train_profile_id_list):\n",
    "    # Get profile IDs for current fold\n",
    "    train_ids = [train_profile_id_list[i] for i in train_index]\n",
    "    val_ids = [train_profile_id_list[i] for i in val_index]\n",
    "\n",
    "    # Filter sequences based on profile IDs\n",
    "    X_train, y_train = filter_sequences(padded_sequences, sequence_targets, train_ids, unique_profile_ids)\n",
    "    X_val, y_val = filter_sequences(padded_sequences, sequence_targets, val_ids, unique_profile_ids)\n",
    "\n",
    "    # Flatten and create subsequences\n",
    "    train_subsequences, train_sub_targets = create_subsequences(X_train, y_train, sequence_length, step_size)\n",
    "    val_subsequences, val_sub_targets = create_subsequences(X_val, y_val, sequence_length, step_size)\n",
    "\n",
    "    # Convert to PyTorch tensors and create DataLoaders\n",
    "    train_loader = DataLoader(TensorDataset(torch.tensor(train_subsequences, dtype=torch.float32),\n",
    "                                            torch.tensor(train_sub_targets, dtype=torch.float32)),\n",
    "                              batch_size=50, shuffle=True)\n",
    "    val_loader = DataLoader(TensorDataset(torch.tensor(val_subsequences, dtype=torch.float32),\n",
    "                                          torch.tensor(val_sub_targets, dtype=torch.float32)),\n",
    "                            batch_size=50)\n",
    "\n",
    "    # Initialize the model, loss function, and optimizer\n",
    "    model = LSTMModel(input_size, hidden_size, num_layers, output_size)\n",
    "    optimizer = torch.optim.Adam(model.parameters(), lr=0.001)\n",
    "    criterion = nn.MSELoss()\n",
    "\n",
    "    # Train the model on the training data\n",
    "    for epoch in range(num_epochs):\n",
    "        for inputs, targets in train_loader:\n",
    "        \n",
    "            outputs = model(inputs)\n",
    "            loss = criterion(outputs, targets)\n",
    "\n",
    "            optimizer.zero_grad()\n",
    "            loss.backward()\n",
    "            optimizer.step()\n",
    "\n",
    "        print(f'Epoch [{epoch+1}/{num_epochs}], Loss: {loss.item():.4f}')\n",
    "\n",
    "    # Evaluate the model on the validation data\n",
    "    total_loss = 0\n",
    "    with torch.no_grad():\n",
    "        for inputs, targets in val_loader:\n",
    "            outputs = model(inputs)\n",
    "            loss = criterion(outputs, targets)\n",
    "            total_loss += loss.item()\n",
    "\n",
    "    avg_loss = total_loss / len(val_loader)\n",
    "    performance_metrics.append(avg_loss)\n",
    "    print(f'Validation Loss for fold: {avg_loss:.4f}')\n",
    "\n",
    "# Calculate and print the average performance across all folds\n",
    "average_performance = np.mean(performance_metrics)\n",
    "print(f'Average Performance across all folds: {average_performance}')"
   ]
  }
 ],
 "metadata": {
  "language_info": {
   "name": "python"
  }
 },
 "nbformat": 4,
 "nbformat_minor": 2
}
